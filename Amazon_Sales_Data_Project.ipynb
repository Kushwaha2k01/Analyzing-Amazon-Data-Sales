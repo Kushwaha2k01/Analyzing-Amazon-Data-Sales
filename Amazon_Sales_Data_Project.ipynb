{
  "nbformat": 4,
  "nbformat_minor": 0,
  "metadata": {
    "colab": {
      "provenance": []
    },
    "kernelspec": {
      "name": "python3",
      "display_name": "Python 3"
    },
    "language_info": {
      "name": "python"
    }
  },
  "cells": [
    {
      "cell_type": "markdown",
      "source": [
        "**Import Essential Libraries**"
      ],
      "metadata": {
        "id": "0D49hoFUVzvY"
      }
    },
    {
      "cell_type": "code",
      "source": [
        "import pandas as pd\n",
        "import numpy as np\n",
        "import matplotlib.pyplot as plt\n",
        "import seaborn as sns  # Optional for more advanced visualizations"
      ],
      "metadata": {
        "id": "GuWH62gwV2m-"
      },
      "execution_count": 2,
      "outputs": []
    },
    {
      "cell_type": "markdown",
      "source": [
        "**Load the Dataset**"
      ],
      "metadata": {
        "id": "sSPPm5KzYAKb"
      }
    },
    {
      "cell_type": "code",
      "source": [
        "data = pd.read_csv(\"/content/Amazon_Sales_data.csv\")"
      ],
      "metadata": {
        "id": "UyA678sZYB7v"
      },
      "execution_count": 3,
      "outputs": []
    },
    {
      "cell_type": "code",
      "source": [
        "data"
      ],
      "metadata": {
        "id": "Z7xwCz0sYbcO"
      },
      "execution_count": null,
      "outputs": []
    },
    {
      "cell_type": "code",
      "source": [
        "data.head()"
      ],
      "metadata": {
        "id": "DIScPppvYgGS"
      },
      "execution_count": null,
      "outputs": []
    },
    {
      "cell_type": "code",
      "source": [
        "print(data.columns)"
      ],
      "metadata": {
        "id": "1Vpdg2gYYlIP"
      },
      "execution_count": null,
      "outputs": []
    },
    {
      "cell_type": "markdown",
      "source": [
        "**Data Cleaning (Optional)**"
      ],
      "metadata": {
        "id": "OCylKaOVYrjZ"
      }
    },
    {
      "cell_type": "code",
      "source": [
        "# Check for missing values\n",
        "print(data.isnull().sum())\n",
        "\n",
        "# Fill missing values (e.g., with mean for numeric columns)\n",
        "data['Unit_Price'] = data['Unit_Price'].fillna(data['Unit_Price'].mean())\n",
        "\n",
        "# Convert data types (e.g., date)\n",
        "data['Order Date'] = pd.to_datetime(data['Order Date'])\n"
      ],
      "metadata": {
        "id": "ZAVvJyWFafzF"
      },
      "execution_count": null,
      "outputs": []
    },
    {
      "cell_type": "markdown",
      "source": [
        "**Sales Trend Analysis**\n",
        "\n",
        "*   **Monthly Sales**\n"
      ],
      "metadata": {
        "id": "WqecG1eWuqMS"
      }
    },
    {
      "cell_type": "code",
      "source": [
        "# Group data by month and calculate total sales\n",
        "monthly_sales = data.groupby(data['Order Date'].dt.month)['Total Revenue'].sum()\n",
        "\n",
        "# Plot monthly sales using Matplotlib\n",
        "import matplotlib.pyplot as plt\n",
        "\n",
        "plt.figure(figsize=(10, 6))\n",
        "monthly_sales.plot(kind='bar', color='skyblue')\n",
        "plt.xlabel('Month')\n",
        "plt.ylabel('Total Sales')\n",
        "plt.title('Monthly Sales Trend')\n",
        "plt.show()\n",
        "\n"
      ],
      "metadata": {
        "id": "Vy9ADmTDu9Bl"
      },
      "execution_count": null,
      "outputs": []
    },
    {
      "cell_type": "markdown",
      "source": [
        "\n",
        "\n",
        "*   **Yearly Sales**\n",
        "\n"
      ],
      "metadata": {
        "id": "KOpkiVk_vRE8"
      }
    },
    {
      "cell_type": "code",
      "source": [
        "# Group data by year and calculate total sales\n",
        "yearly_sales = data.groupby(data['Order Date'].dt.year)['Total Revenue'].sum()\n",
        "\n",
        "# Plot yearly sales using Seaborn\n",
        "import seaborn as sns\n",
        "\n",
        "sns.barplot(x=yearly_sales.index, y=yearly_sales.values)\n",
        "plt.xlabel('Year')\n",
        "plt.ylabel('Total Sales')\n",
        "plt.title('Yearly Sales Trend')\n",
        "plt.show()\n",
        "\n"
      ],
      "metadata": {
        "id": "7ku5vQIzvYsW"
      },
      "execution_count": null,
      "outputs": []
    },
    {
      "cell_type": "markdown",
      "source": [
        "\n",
        "\n",
        "*   **Yearly-Monthly Sales**\n",
        "\n"
      ],
      "metadata": {
        "id": "6UR4dvvUvv2j"
      }
    },
    {
      "cell_type": "code",
      "source": [
        "# Group data by year and month and calculate total sales\n",
        "yearly_monthly_sales = data.groupby([data['Order Date'].dt.year, data['Order Date'].dt.month])['Total Revenue'].sum().unstack()\n",
        "\n",
        "# Plot yearly-monthly sales using heatmap\n",
        "sns.heatmap(yearly_monthly_sales, cmap='coolwarm')\n",
        "plt.xlabel('Month')\n",
        "plt.ylabel('Year')\n",
        "plt.title('Yearly-Monthly Sales Heatmap')\n",
        "plt.show()\n",
        "\n"
      ],
      "metadata": {
        "id": "8ZNVXwv5v0LR"
      },
      "execution_count": null,
      "outputs": []
    },
    {
      "cell_type": "markdown",
      "source": [
        "**Key Metrics and Relationship Exploration**\n",
        "\n",
        "*   **Calculate Key Metrics**\n"
      ],
      "metadata": {
        "id": "RwOkl9LKwUoO"
      }
    },
    {
      "cell_type": "code",
      "source": [
        "total_sales = data['Total Revenue'].sum()\n",
        "average_order_value = data['Total Revenue'] / data['Order ID'].nunique()\n",
        "units_sold_per_category = data.groupby('Item Type')['Unit Cost'].sum()\n"
      ],
      "metadata": {
        "id": "vtVqA_MtwdAc"
      },
      "execution_count": 23,
      "outputs": []
    },
    {
      "cell_type": "markdown",
      "source": [
        "\n",
        "\n",
        "*   **Correlation Analysis**\n",
        "\n"
      ],
      "metadata": {
        "id": "dSb3mclexOCu"
      }
    },
    {
      "cell_type": "code",
      "source": [
        "# Explore correlation between features (e.g., price and sales)\n",
        "correlation = data[['Unit Price', 'Units Sold']].corr()\n",
        "print(correlation)\n",
        "\n"
      ],
      "metadata": {
        "id": "YroDUZuyxRbo"
      },
      "execution_count": null,
      "outputs": []
    },
    {
      "cell_type": "markdown",
      "source": [
        "**Save Results**"
      ],
      "metadata": {
        "id": "u2xh090gzcFs"
      }
    },
    {
      "cell_type": "code",
      "source": [
        "# Save visualizations as images\n",
        "monthly_sales.plot(kind='bar').get_figure().savefig('monthly_sales.png')\n",
        "\n",
        "# ... save other plots\n"
      ],
      "metadata": {
        "id": "scK04UgTzeBB"
      },
      "execution_count": null,
      "outputs": []
    }
  ]
}